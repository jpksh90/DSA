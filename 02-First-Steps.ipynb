{
 "cells": [
  {
   "cell_type": "markdown",
   "metadata": {},
   "source": [
    "# Introduction\n",
    "\n",
    "Programming languages are tools to give instructions to the computer. The program which is written in human readable format is called a source code. A software called as a compiler or interpreter and it translates the program to binary code (otherwise known as machine code) for execution by computer.\n",
    "\n",
    "This translation is done in two ways. One way is to translate each line of the source code into the machine code and give it immediately to the computer for executing it. This is called as an interpreter. The other approach is to translate the whole program to a binary file. This is called as a compiler. Another popular approach is to compile the program an intermediate language. This code in intermediate language can later be translated to machine code by the interpreter. Such interpreters are called just-in-time interpreter. As of now, fully interpreted languages are a thing of the past. Nowadays, many languages allows us to either we have a compiled language or a just-in-time interpreted language.\n",
    "\n",
    "Python is a compiled and interpreted language. A python program file is first converted to the compiled python bitcode, which is intepreted by the python interpreter. To write a python program, you need a text editor and a python interpreter. You can download the python interpreter from https://www.python.org/downloads/. I suggest to use Visual Studio Code for text editor (https://code.visualstudio.com/) which provides fantastic support for python. Another option is to use a Jupyter environment. Here, we will be using the python interpreter which is bundled with the Jupyter environment for ease of explanation. However, you are suggested to use the text editor and interpreter.\n",
    "\n",
    "Python programs are called as scripts. Each line in a script is a statement. Statements are executed sequentially, unless there is a case of a function or class. Generally, these cases are so common in programming, that it is customary to not assume that the scripts are executed sequentially. We will come to this case later in this chapter. But, for now assume that scripts are executed sequentially.\n",
    "\n",
    "The programs introduced in the book are written in Jupyter notebooks. So, please run the code in Jupyter notebook for learning purposes as it provides a convenient interface to experiment which would otherwise be cumbersome.\n",
    "\n",
    "# Keywords\n",
    "\n",
    "These are the reserved words which is understood by the Python interpreter and have a special meaning. The figure below shows the list of keywords.\n",
    "\n",
    "| Keyword | Keyword  | Keyword | Keyword  | Keyword |\n",
    "|---------|----------|---------|----------|---------|\n",
    "| False   | await    | else    | import   | pass    |\n",
    "| None    | break    | except  | in       | raise   |\n",
    "| True    | class    | finally | is       | return  |\n",
    "| and     | continue | for     | lambda   | try     |\n",
    "| as      | def      | from    | nonlocal | while   |\n",
    "| assert  | del      | global  | not      | with    |\n",
    "| async   | elif     | if      | or       | yield   |\n",
    "\n",
    "\n",
    "# Input/Output\n",
    "\n",
    "In addition to keywords, Python defines some function which have a special meaning. For now, assuming a function is set of instructions defined for a specific purpose. Two of these are `input` and  `print`. `print` display something to the screen. `input` function is used to take input from the keyboard.\n",
    "\n",
    "Here, we introduce the first part of the code. In the first statement, it asks the name from the user and stores it in a variable (introduced in the next section). The input taken from the keyboard is always considered as a text, i.e., `11044` and  `this is a text` are both text.\n",
    "\n",
    "In the second statement, it displays the message on the screen. The text separated by comma are separated by space when displayed on the screen. The variable name is replaced by the value received as input from the user."
   ]
  },
  {
   "cell_type": "code",
   "execution_count": 91,
   "metadata": {
    "pycharm": {
     "name": "#%%\n"
    }
   },
   "outputs": [
    {
     "name": "stdout",
     "output_type": "stream",
     "text": [
      "Hi Jyoti nice to meet you!\n"
     ]
    }
   ],
   "source": [
    "name = input(\"Enter your name \")\n",
    "print(\"Hi\", name, \"nice to meet you!\")\n",
    "# input name is Jyoti"
   ]
  },
  {
   "cell_type": "markdown",
   "metadata": {},
   "source": [
    "# Constants and Variables\n",
    "\n",
    "Constants, as the name indicates, are the values that do not change. Variables are the names which can hold constants or other variables. Variable is similar to the concept of a variable in school algebra books. The program below declares a variable *x* which is a name for the constant $5$. In this case, the python interpreter will create a memory location, named *x* and will write the value $5$ to that memory location. In the python interpreter, you can query for the value of the variable by writing the variable name. Go and run this code and see what it prints. Later, modify the value of x to $7$ and check whether it has changed!\n",
    "\n",
    "Variable names in Python are case-sensitive, i.e., `a` and `A` are not the same. It must start with a letter or an underscore and must contain alphanumeric characters or underscore. Keywords cannot be variable names. Variable names also cannot start with a number. It is conventional practice, to start local variable names with a lower-case alphabet."
   ]
  },
  {
   "cell_type": "code",
   "execution_count": 92,
   "metadata": {
    "pycharm": {
     "name": "#%%\n"
    }
   },
   "outputs": [
    {
     "data": {
      "text/plain": [
       "5"
      ]
     },
     "execution_count": 92,
     "metadata": {},
     "output_type": "execute_result"
    }
   ],
   "source": [
    "x = 5\n",
    "x"
   ]
  },
  {
   "cell_type": "markdown",
   "metadata": {},
   "source": [
    "\n",
    "Python also provides support for text constants which are called as strings. String constants are enclosed in the single (or double) quotes. A string value can contain sequence of alphabets, numbers, and all special characters."
   ]
  },
  {
   "cell_type": "code",
   "execution_count": 93,
   "metadata": {
    "pycharm": {
     "name": "#%%\n"
    }
   },
   "outputs": [
    {
     "data": {
      "text/plain": [
       "'John'"
      ]
     },
     "execution_count": 93,
     "metadata": {},
     "output_type": "execute_result"
    }
   ],
   "source": [
    "name = 'John'\n",
    "email_id = 'book@example.com'\n",
    "webpage = 'www.example.com'\n",
    "name"
   ]
  },
  {
   "cell_type": "markdown",
   "metadata": {},
   "source": [
    "Many software systems need to process real numbers. Python also allows processing these real numbers, in this case, these are called as floating point values. Floating point values is known by the decimal point. Thus, the value `5.0` is a floating point number while `5` is an integer albeit both of these being the same value.\n",
    "\n",
    "Often writing large numbers such as 10000000 in inconvenient to eyes; it can also be written as 10_000_000. Python allows to separate these with the `_` symbol, which can used as a replacement for `,` in usual practice. Note that, it does not check for the correct format of numbers. It's a mere convinience. So, 10_000_000 and 1_00_00_000 mean the same thing."
   ]
  },
  {
   "cell_type": "code",
   "execution_count": 94,
   "metadata": {
    "pycharm": {
     "name": "#%%\n"
    }
   },
   "outputs": [
    {
     "name": "stdout",
     "output_type": "stream",
     "text": [
      "5.0\n",
      "1000000.0\n"
     ]
    }
   ],
   "source": [
    "x = 5.0\n",
    "print(x)\n",
    "x = 10_00_00_0.0_0\n",
    "print(x)"
   ]
  },
  {
   "cell_type": "markdown",
   "metadata": {},
   "source": [
    "**Boolean Constant**\n",
    "\n",
    "Boolean constants are `True` or `False`."
   ]
  },
  {
   "cell_type": "code",
   "execution_count": 95,
   "metadata": {
    "pycharm": {
     "name": "#%%\n"
    }
   },
   "outputs": [
    {
     "name": "stdout",
     "output_type": "stream",
     "text": [
      "True\n",
      "False\n"
     ]
    }
   ],
   "source": [
    "x = True\n",
    "print(x)\n",
    "x = False\n",
    "print(x)"
   ]
  },
  {
   "cell_type": "markdown",
   "metadata": {},
   "source": [
    "**Binary Numbers**\n",
    "\n",
    "Binary numbers are represented as `0b<number>` where `<number>` is a bit string. Similary, hexadecimal numbers are represented as `0x<number>`. It cannot contain decimal places."
   ]
  },
  {
   "cell_type": "code",
   "execution_count": 96,
   "metadata": {
    "pycharm": {
     "name": "#%%\n"
    }
   },
   "outputs": [
    {
     "name": "stdout",
     "output_type": "stream",
     "text": [
      "7\n",
      "255\n"
     ]
    }
   ],
   "source": [
    "x = 0b111\n",
    "print(x)\n",
    "x = 0xFF\n",
    "print(x)"
   ]
  },
  {
   "cell_type": "markdown",
   "metadata": {},
   "source": [
    "# Relational Operations\n",
    "\n",
    "Python provides the following relational operators: `>, >=, <=, <, ==, !=`. The operators `==` and `!=` checks for equals-to and not equals to (as in 2 equals-to 2, and 3 not equals-to 2). The result of this operation returns a boolean value.\n",
    "\n",
    "These are used to compare the numbers, characters, and strings. Yes, you heard it right, characters and strings. Technically, these operators can be defined based on the data type.\n",
    "\n",
    "In the case of numbers, the behavior is similar to their mathematical counterpart. In the case of characters, it uses the implementation defined by the interpreter. For example `'a' < 'b'` yields `True` while `'b' < 'A'` yields `False`. This is because, python compares its corresponding ASCII value. The ASCII value of `b` is the 98 and that of `A` is 65."
   ]
  },
  {
   "cell_type": "code",
   "execution_count": 97,
   "metadata": {
    "pycharm": {
     "name": "#%%\n"
    }
   },
   "outputs": [
    {
     "name": "stdout",
     "output_type": "stream",
     "text": [
      "False\n",
      "True\n",
      "True\n",
      "False\n",
      "True\n",
      "False\n",
      "True\n"
     ]
    }
   ],
   "source": [
    "print (1 > 5)\n",
    "print (1 < 5)\n",
    "print (2 == 2)\n",
    "print (2 != 2)\n",
    "print ('a' < 'b')\n",
    "print ('b' < 'A')\n",
    "print ('aBc' < 'abc')"
   ]
  },
  {
   "cell_type": "markdown",
   "metadata": {},
   "source": [
    "## Logical Operators\n",
    "\n",
    "Python provides the following logical operators which work in boolean values. These are: `and`, `or`, and `not`. These operators work on the following table called as truth table. `a and b` returns `True` when **both** `a` and `b` is `True`. `a or b` returns `False` when **atleast one of** `a` and `b` is True. `not a` inverts the value of `a`, i.e., returns `True` when `a` is True and *vice-versa*."
   ]
  },
  {
   "cell_type": "markdown",
   "metadata": {},
   "source": [
    "## Arithmatic Operators\n",
    "\n",
    "These are normal arithmatic operators such as `+, -, \\*, /`, and many others. A peculiar operator is `**` which stands for the power, as in $a^b$. Other one is a `//` which is integer division, which computes the quotient of two numbers. The last one is a `%` (called as modulo) which compute the remainder after division."
   ]
  },
  {
   "cell_type": "code",
   "execution_count": 98,
   "metadata": {
    "pycharm": {
     "name": "#%%\n"
    }
   },
   "outputs": [
    {
     "name": "stdout",
     "output_type": "stream",
     "text": [
      "x + y =  12\n",
      "x*y =  35\n",
      "x/y =  0.7142857142857143\n",
      "x//y =  0\n",
      "x - y =  -2\n"
     ]
    }
   ],
   "source": [
    "x = 5\n",
    "y = 7\n",
    "print (\"x + y = \", x+y)\n",
    "print (\"x*y = \", x*y)\n",
    "print (\"x/y = \", x/y)\n",
    "print (\"x//y = \", x//y)\n",
    "print (\"x - y = \", x-y)"
   ]
  },
  {
   "cell_type": "markdown",
   "metadata": {
    "id": "5JZFvq0yvamz"
   },
   "source": [
    "## Data Types and Type Conversion\n",
    "\n",
    "Data type is the type of data associated with the variable or constant. Python provides the follow built-in data types.\n",
    "- int: Integers\n",
    "- str: String and characters\n",
    "- float: Decimal numbers\n",
    "- complex: complex numbers\n",
    "- bool: Boolean\n",
    "- set, frozenset: Sets (as in set of objects)\n",
    "- list, tuple, range: ordered collection of objects\n",
    "- dict: Dictionary\n",
    "- None: None type\n",
    "\n",
    "Until now, we have seen the int, str, float, and bool data types. Other data types we will see in the next chapters.\n",
    "\n",
    "`type` keywords gives the type data. Check for your self by running the code below."
   ]
  },
  {
   "cell_type": "code",
   "execution_count": 99,
   "metadata": {
    "colab": {
     "base_uri": "https://localhost:8080/"
    },
    "id": "XY5FwJ-NwPo7",
    "outputId": "fe2d2271-c6a0-4e17-a5ea-d426205ac718"
   },
   "outputs": [
    {
     "name": "stdout",
     "output_type": "stream",
     "text": [
      "<class 'int'>\n",
      "<class 'str'>\n",
      "<class 'float'>\n",
      "True\n"
     ]
    }
   ],
   "source": [
    "x = 4\n",
    "print(type(x))\n",
    "print(type('this is my name'))\n",
    "print(type(4.0))\n",
    "print(type(\"this is a string\") == str)"
   ]
  },
  {
   "cell_type": "markdown",
   "metadata": {
    "id": "6KC8A9Wdw07q"
   },
   "source": [
    "The `input` keyword always returns a string. However, it is possible to change the data type.  Check for yourself!"
   ]
  },
  {
   "cell_type": "code",
   "execution_count": 100,
   "metadata": {
    "colab": {
     "base_uri": "https://localhost:8080/",
     "height": 208
    },
    "id": "cxXlJAFpw0XO",
    "outputId": "7e1386b4-bf29-420c-ebb5-f6739c36de10"
   },
   "outputs": [
    {
     "name": "stdout",
     "output_type": "stream",
     "text": [
      "Your age is  15\n"
     ]
    }
   ],
   "source": [
    "age = int(input(\"Enter your age \"))\n",
    "print(\"Your age is \", age)"
   ]
  },
  {
   "cell_type": "markdown",
   "metadata": {
    "id": "e07Pf5ipxtu3"
   },
   "source": [
    "Type conversion is also possible outside the `input` keyword.\n",
    "\n",
    "Type conversion may be *loseless*, i.e., it doesn't looses information, or *lossy*, i.e., it losses information. For example, converting a float to int will remove the integer part, while the other way will work. Similarly, any number can be casted into a string but not the other way round. In the case of string, it will throw an error."
   ]
  },
  {
   "cell_type": "code",
   "execution_count": 101,
   "metadata": {
    "colab": {
     "base_uri": "https://localhost:8080/"
    },
    "id": "TRdgsHEEx1Q7",
    "outputId": "cd15955a-139b-4a40-e926-25268ef7329a"
   },
   "outputs": [
    {
     "name": "stdout",
     "output_type": "stream",
     "text": [
      "<class 'str'>\n",
      "5\n"
     ]
    }
   ],
   "source": [
    "x = 5.3\n",
    "z = str(x)\n",
    "print(type(z))\n",
    "y = int(x)\n",
    "print(y)"
   ]
  },
  {
   "cell_type": "markdown",
   "metadata": {
    "id": "jxspd3LryZ1M"
   },
   "source": []
  },
  {
   "cell_type": "markdown",
   "metadata": {
    "id": "o8I1jifzzAfD"
   },
   "source": [
    "## Branching\n",
    "\n",
    "Branching allows to the change the control flow of the program based on a condition. In python, a branching is introduced by `if: ... else: ....` statement. It is also possible to skip the `else ...` part if it is not required. In this example, it prints the message based on a condition."
   ]
  },
  {
   "cell_type": "code",
   "execution_count": 102,
   "metadata": {
    "colab": {
     "base_uri": "https://localhost:8080/"
    },
    "id": "HsuVxuUYzcia",
    "outputId": "e6e2493e-3982-4a0a-c9c0-d5e9ffa2d5b7"
   },
   "outputs": [
    {
     "name": "stdout",
     "output_type": "stream",
     "text": [
      "You are young\n"
     ]
    }
   ],
   "source": [
    "age = int(input(\"Enter your age: \"))\n",
    "if age < 24:\n",
    "  print(\"You are young\")\n",
    "else:\n",
    "  print(\"You are not so young\")\n",
    "# the output is shown for the age=15"
   ]
  },
  {
   "cell_type": "markdown",
   "metadata": {
    "id": "GgLRa60U0SBv"
   },
   "source": [
    "## Looping\n",
    "\n",
    "Often a program requires to repeat a sequence of statements based on the outcome of a condition. In programming, we call this as loops. Loops can be implemented in Python in two ways.\n",
    "- `while` loop\n",
    "- `for` loop\n",
    "\n",
    "#### While Loop\n",
    "\n",
    "While loops are generally when the number of repetations is unknown. The syntax of a while loop is:\n",
    "\n",
    "```python\n",
    "while <condition>:\n",
    "  # body of while loop\n",
    "```\n",
    "It starts with the keyword `while`, which is followed by the condition. The body of the while loop in indented and consists of the statements which are supposed to be repeated.\n",
    "\n",
    "**Example** This program prints the sum of the series $\\sum\\limits_{i=1}^{10}i*i$. The lines `5-7` runs for $10$ times. At each iteration of the loop, the value of `i` is increment by 1."
   ]
  },
  {
   "cell_type": "code",
   "execution_count": 103,
   "metadata": {
    "colab": {
     "base_uri": "https://localhost:8080/"
    },
    "id": "KPucBCFr0Qbw",
    "outputId": "1294d273-de92-4ded-ad95-e2dfa1035be3"
   },
   "outputs": [
    {
     "name": "stdout",
     "output_type": "stream",
     "text": [
      "385\n"
     ]
    }
   ],
   "source": [
    "sum = 0\n",
    "i = 1\n",
    "n = 10\n",
    "while i <= n:\n",
    "  sum = sum + i*i\n",
    "  i = i + 1\n",
    "print(sum)"
   ]
  },
  {
   "cell_type": "markdown",
   "metadata": {
    "id": "xh49hGg-rhTA"
   },
   "source": [
    "#### For Loop\n",
    "\n",
    "Another technique to loop is with the `for` loop. The `for` loop iterates over a fixed range. The function `range` generates a range of integers. It has following format: `range(start, end, step)` and generates integers within the range $[\\mathit{start}, \\mathit{end})$. The `step` can either be positive, in which it generates a increasing sequence, or negative, where it generates a decreasing sequence. The default the increment is 1. E.g., `range(1,11, 1)` generates sequence of numbers from 1 to 10 (excluding 11) where in each step it increases by 1."
   ]
  },
  {
   "cell_type": "code",
   "execution_count": 104,
   "metadata": {
    "colab": {
     "base_uri": "https://localhost:8080/"
    },
    "id": "NJ4RTwtNrx4E",
    "outputId": "044b6b02-52ad-4018-ccaa-efa032bb73c3"
   },
   "outputs": [
    {
     "name": "stdout",
     "output_type": "stream",
     "text": [
      "385\n"
     ]
    }
   ],
   "source": [
    "sum = 0\n",
    "for i in range(1, 11, 1):\n",
    "  sum = sum + i*i\n",
    "print(sum)"
   ]
  },
  {
   "cell_type": "markdown",
   "metadata": {
    "id": "ZNYqJoY1s0VC"
   },
   "source": [
    "\n",
    "Setting the increment to -1, reverses the direction of generated numbers."
   ]
  },
  {
   "cell_type": "code",
   "execution_count": 105,
   "metadata": {
    "colab": {
     "base_uri": "https://localhost:8080/"
    },
    "id": "8fwmp5EnsnND",
    "outputId": "48eace58-ec8e-40e9-c6e7-b9c572a39110"
   },
   "outputs": [
    {
     "name": "stdout",
     "output_type": "stream",
     "text": [
      "385\n"
     ]
    }
   ],
   "source": [
    "sum = 0\n",
    "for i in range(10, 0, -1):\n",
    "  sum = sum + (i*i)\n",
    "print(sum)"
   ]
  },
  {
   "cell_type": "markdown",
   "metadata": {
    "id": "ED36_iKStBdp"
   },
   "source": [
    "## Integer square root\n",
    "\n",
    "In this part, we will implement a program to the print the integer square root of a number. For a given number $n$, it will compute $⌊\\sqrt{n}⌋$. For example, for $10$ it prints $3$.\n",
    "\n",
    "In the first version, the idea is simple. It iterates and increments the counter $i$ until the condition $(i+1)^2 \\leq n$ is satisfied. Print the values to learn how it works."
   ]
  },
  {
   "cell_type": "code",
   "execution_count": 106,
   "metadata": {
    "colab": {
     "base_uri": "https://localhost:8080/"
    },
    "id": "Y8fgczad9pMt",
    "outputId": "39ff8144-1ef9-4cdf-b3cc-37d27d737bbe"
   },
   "outputs": [
    {
     "name": "stdout",
     "output_type": "stream",
     "text": [
      "10\n"
     ]
    }
   ],
   "source": [
    "n=100\n",
    "i=-1\n",
    "while (i+1)**2 <= n:\n",
    "  i=i+1\n",
    "print(i)"
   ]
  },
  {
   "cell_type": "markdown",
   "metadata": {
    "id": "EeMyol8j4Vx7"
   },
   "source": [
    "## Functions\n",
    "\n",
    "Function is a mechanism to group a bunch of statements for a specific purpose. It resembles to the function in mathematics. It takes a zero or more arguments and computes the value, except for one thing, that it may not always return a value. It is possible to group a collection of statements in a function\n",
    "\n",
    "For example, if you want to compute the the integer square root of the number for the range 0 to 100, then is a neat programming practice to put it into a function.\n",
    "\n",
    "A function has the following format:\n",
    "\n",
    "```python\n",
    "def function_name(inputs_arguments):\n",
    "  # body of the function\n",
    "  return value\n",
    "```\n",
    "\n",
    "A function is created by using the `def` keyword. You must have noted that python is indentation specific, i.e., the body of the function should be indented one space more relative to the definition."
   ]
  },
  {
   "cell_type": "code",
   "execution_count": 107,
   "metadata": {
    "colab": {
     "base_uri": "https://localhost:8080/"
    },
    "id": "qeUFinZd4VCi",
    "outputId": "24a9d6e6-8813-402a-a708-fc318a20de91"
   },
   "outputs": [
    {
     "name": "stdout",
     "output_type": "stream",
     "text": [
      "10\n",
      "0\n",
      "1\n",
      "1\n",
      "1\n",
      "2\n"
     ]
    }
   ],
   "source": [
    "def square_root(n):\n",
    "  i=-1\n",
    "  while (i+1)**2 <= n:\n",
    "    i=i+1\n",
    "  return i\n",
    "\n",
    "# now we have declared the function, we can use it\n",
    "print(square_root(100))\n",
    "# or better, print a collection of sqaure roots\n",
    "for i in range(0, 5):\n",
    "  print(square_root(i))"
   ]
  },
  {
   "cell_type": "markdown",
   "metadata": {
    "id": "RLGOZfbn6iVU"
   },
   "source": [
    "Other example of a function that doesn't return a value. This function prints the fibonacci series. It is a series which starts from $0, 1$ and subsequent number is the sum of the previous two numbers.\n",
    "\n",
    "$0, 1, 1, 2, 3, 5, 8, \\ldots$"
   ]
  },
  {
   "cell_type": "code",
   "execution_count": 108,
   "metadata": {
    "colab": {
     "base_uri": "https://localhost:8080/"
    },
    "id": "nTk0GU7z6h_W",
    "outputId": "4a310937-5bc7-4836-f7a7-23de1ded3a78"
   },
   "outputs": [
    {
     "name": "stdout",
     "output_type": "stream",
     "text": [
      "3\n",
      "5\n"
     ]
    }
   ],
   "source": [
    "def fib(n):\n",
    "  if n <= 1:\n",
    "    print(0)\n",
    "  elif n == 2:\n",
    "    print(1)\n",
    "  else:\n",
    "    a = 0\n",
    "    b = 1\n",
    "    c = a+b\n",
    "    for i in range(3, n+1):\n",
    "      c = a+b\n",
    "      a = b\n",
    "      b = c\n",
    "    print(c)\n",
    "\n",
    "\n",
    "fib(5)\n",
    "fib(6)"
   ]
  },
  {
   "cell_type": "markdown",
   "metadata": {
    "id": "-0560FJJ7rdY"
   },
   "source": [
    "Although a better way to implement this is"
   ]
  },
  {
   "cell_type": "code",
   "execution_count": 109,
   "metadata": {
    "colab": {
     "base_uri": "https://localhost:8080/"
    },
    "id": "cn96v4N57qkn",
    "outputId": "9110d9e0-b869-4e5d-e77a-cda9a551d037"
   },
   "outputs": [
    {
     "name": "stdout",
     "output_type": "stream",
     "text": [
      "3\n",
      "5\n"
     ]
    }
   ],
   "source": [
    "def fib(n):\n",
    "  if n <= 1:\n",
    "    return 0\n",
    "  if n == 2:\n",
    "    return 1;\n",
    "  a = 0\n",
    "  b = 1\n",
    "  c = 0\n",
    "  for i in range(3, n+1):\n",
    "    c = a+b\n",
    "    a = b\n",
    "    b = c\n",
    "  return c\n",
    "\n",
    "print(fib(5))\n",
    "print(fib(6))"
   ]
  },
  {
   "cell_type": "markdown",
   "metadata": {
    "id": "akh9Exu88Gz2"
   },
   "source": [
    "## Questions\n",
    "\n",
    "Write the following programs:\n",
    "\n",
    "1. Compute one of positive root (assume 0 to be a positive number) of a polynomial of degree 3. If the root does not exist between $(0, 10k)$, then it should return -1. Assume that the margin of error is given as input. By default, the error tolerance is $0.0001$\n",
    "\n",
    "2. A popular yet simple to express conjecture in mathematics is collatz conjecture. Start with a number $n \\geq 1$, and form a sequence of the numbers by applying the function $f(n) = \\begin{cases} n/2 & \\mathit{n~is~even}\\\\ 3n+1 & \\mathit{n~is~odd}\\end{cases}$ at each step on the result from the previous step until it reaches 1. The conjecture is that the sequence will always end in 1 for any starting integer $n$. Verify collatz conjecture for $n$ from  0 to 1000. For example, starting with $5$, the sequence formed is $[16, 8, 4, 2, 1]$.\n",
    "\n",
    "3. Extend the square root method to compute the precise square root. Assume a margin of error tolerance to be $0.01$.  \n",
    "\n",
    "5. Given three coordinates $(x_1, y_1)$,  $(x_2, y_2)$, and $(x_2, y_2)$. Check if these are colinear.  \n",
    "\n",
    "6. Game of Dice: Two players takes turn to roll a dice. Each players get the points equal to the value of the dice roll. If the dice roll turns out to be a even number the points are given to the opponent player. Otherwise, the player get the points equals to twice the dice roll. The player who reaches 100 points wins the game. Assume that you are given a function `dice_roll()` which returns the value of the current dice rolled."
   ]
  },
  {
   "cell_type": "markdown",
   "metadata": {},
   "source": [
    "## Solutions"
   ]
  },
  {
   "cell_type": "code",
   "execution_count": 110,
   "metadata": {
    "colab": {
     "base_uri": "https://localhost:8080/"
    },
    "id": "zo4UNx7V-0FW",
    "outputId": "4439e559-58af-4820-a300-85ab7f2fe88d"
   },
   "outputs": [
    {
     "name": "stdout",
     "output_type": "stream",
     "text": [
      "1.0000000000000007\n"
     ]
    }
   ],
   "source": [
    "def compute_value(c0, c1, c2, c3, i):\n",
    "  return c0*(i**3) + c1*(i**2) + c2*i + c3\n",
    "\n",
    "def polynomial_root(c0, c1, c2, c3, error=0.0001, step=0.01):\n",
    "  i=0\n",
    "  while i < 10_000:\n",
    "    val = compute_value(c0, c1, c2, c3, i)\n",
    "    # print(\"i=\", i, \" value = \", val )\n",
    "    if abs(val - 0.0) < error:\n",
    "      return i\n",
    "    i=i+step\n",
    "  return -1\n",
    "\n",
    "print(polynomial_root(1.0, 0.0, 0.0, -1.0))"
   ]
  },
  {
   "cell_type": "code",
   "execution_count": 111,
   "metadata": {
    "colab": {
     "base_uri": "https://localhost:8080/"
    },
    "id": "xbYNXgBo9hB9",
    "outputId": "bb33772f-095f-4049-e567-eea5055549aa"
   },
   "outputs": [
    {
     "name": "stdout",
     "output_type": "stream",
     "text": [
      "verified collatz until 10000\n"
     ]
    }
   ],
   "source": [
    "def collatz(n, max_steps=100_000_00):\n",
    "  step = 0;\n",
    "  while n > 1 and step < max_steps:\n",
    "    if n%2 == 0:\n",
    "      n = n//2\n",
    "    else:\n",
    "      n = 3*n+1\n",
    "    step = step+1\n",
    "  return True if n==1 else False\n",
    "\n",
    "def verify_collatz(max):\n",
    "  for i in range(1, max+1):\n",
    "    if not collatz(i):\n",
    "      print(\"failed to verify colltaz in 100_000_00 steps for \", i)\n",
    "      return\n",
    "  print(\"verified collatz until\", max)\n",
    "\n",
    "\n",
    "verify_collatz(10_000)"
   ]
  },
  {
   "cell_type": "code",
   "execution_count": 112,
   "metadata": {},
   "outputs": [
    {
     "data": {
      "text/plain": [
       "3.1609999999999823"
      ]
     },
     "execution_count": 112,
     "metadata": {},
     "output_type": "execute_result"
    }
   ],
   "source": [
    "def exact_root(n, root):\n",
    "  error = abs(n - root**2)\n",
    "  max_error = 0.01\n",
    "  while error >= max_error:\n",
    "    root = root+0.001\n",
    "    error = abs(n - root**2)\n",
    "  return root\n",
    "  \n",
    "def integer_root(n):\n",
    "  i=-1\n",
    "  while (i+1)**2 <= n:\n",
    "    i=i+1\n",
    "  return i\n",
    "\n",
    "def square_root(n):\n",
    "  root = integer_root(n)\n",
    "  if root*root == n:\n",
    "    return root\n",
    "  else:\n",
    "    return exact_root(n, root)\n",
    "  \n",
    "square_root(10)"
   ]
  },
  {
   "cell_type": "code",
   "execution_count": 113,
   "metadata": {
    "colab": {
     "base_uri": "https://localhost:8080/"
    },
    "id": "Q9ihjdDsIz9A",
    "outputId": "21db7b64-154d-4158-a141-31e7b12dc9ac"
   },
   "outputs": [
    {
     "name": "stdout",
     "output_type": "stream",
     "text": [
      "player 2 wins\n"
     ]
    }
   ],
   "source": [
    "VERBOSE=False\n",
    "def dice_roll():\n",
    "  import random as rand\n",
    "  return rand.randint(1,6) # generates a random integer between 1 and 6, including both the boundaries\n",
    "\n",
    "def player1():\n",
    "  roll = dice_roll()\n",
    "  if VERBOSE:\n",
    "    print(\"\\tplayer 1 rolled \", roll)\n",
    "  return roll\n",
    "\n",
    "def player2():\n",
    "  roll = dice_roll()\n",
    "  if VERBOSE:\n",
    "    print(\"\\tplayer 2 rolled \", roll)\n",
    "  return roll\n",
    "\n",
    "def winner_decided(p1, p2):\n",
    "  return p1 >= 100 or p2 >= 100\n",
    "\n",
    "def score_board(p1, p2):\n",
    "  if VERBOSE:\n",
    "    print(\"Score Board: player 1 = \", p1, \" player 2 = \", p2)\n",
    "\n",
    "def game():\n",
    "  p1 = 0\n",
    "  p2 = 0\n",
    "  while True:\n",
    "    roll = player1()\n",
    "    if roll%2 == 0:\n",
    "      p2 = p2 + roll\n",
    "    else:\n",
    "      p1 = p1 + 2*roll\n",
    "    if VERBOSE:\n",
    "      score_board(p1, p2)\n",
    "    if not winner_decided(p1, p2):\n",
    "      break\n",
    "\n",
    "    roll = player2()\n",
    "    if roll%2 == 0:\n",
    "      p1 = p1 + roll\n",
    "    else:\n",
    "      p2 = p2 + 2*roll\n",
    "    if VERBOSE:\n",
    "      score_board(p1, p2)\n",
    "    if not winner_decided(p1, p2):\n",
    "      break\n",
    "  print(\"player 1 wins\") if p1 > 100 else print(\"player 2 wins\")\n",
    "\n",
    "game()\n"
   ]
  }
 ],
 "metadata": {
  "colab": {
   "provenance": [],
   "toc_visible": true
  },
  "kernelspec": {
   "display_name": "Python 3 (ipykernel)",
   "language": "python",
   "name": "python3"
  },
  "language_info": {
   "codemirror_mode": {
    "name": "ipython",
    "version": 3
   },
   "file_extension": ".py",
   "mimetype": "text/x-python",
   "name": "python",
   "nbconvert_exporter": "python",
   "pygments_lexer": "ipython3",
   "version": "3.9.6"
  }
 },
 "nbformat": 4,
 "nbformat_minor": 1
}
