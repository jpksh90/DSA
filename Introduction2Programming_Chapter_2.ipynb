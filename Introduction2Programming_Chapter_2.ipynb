{
  "nbformat": 4,
  "nbformat_minor": 0,
  "metadata": {
    "colab": {
      "provenance": [],
      "toc_visible": true,
      "authorship_tag": "ABX9TyNkaWWyWgAJ/xBuZI7pSxaj"
    },
    "kernelspec": {
      "name": "python3",
      "display_name": "Python 3"
    },
    "language_info": {
      "name": "python"
    }
  },
  "cells": [
    {
      "cell_type": "markdown",
      "source": [
        "# Chapter 2: Foundation Programming Concepts in Python\n",
        "\n",
        "Programming languages are tools to give instructions to the computer. Computer only understand binary code which is difficult for human to read. A computer program is written in the human-readable characters. A software called as a compiler or interpeter tranlates the program to binary code for execution by computer. The human readable version is called as source code while the binary is called as machine code.\n",
        "\n",
        "This translation is done in two ways. One, it can translate each line of the source code into the machine code and give it immediately to the computer for executing it. This is called as an interpreter. Otherwise, it translates the whole program to a binary file. This is called as a compiler. Another popilar approach is to compile the program an intermediate language. This code in intermediate language can later be translated to machine code by the interpreter. Such interpreters are called just-in-time interpreter. As of now, fully interpreted languages are a thing of the past. Nowadays, either we have a compiled language or a just-in-time interpreted language.\n",
        "\n",
        "The language we are going to use is Python which is compiled and interpreted language. A python program file is first converted to the compiled python bitcode, which is intepreted by the python interpreter.\n",
        "\n",
        "\n",
        "To write a python script, you need a text editor and a python interpreter. You can download the python interpreter from https://www.python.org/downloads/. I suggest to use Visual Studio Code for text editor (https://code.visualstudio.com/) which provides fantastic support for python. Another option is to use a Jupyter environment. Here, we will be using the python interpreter which is bundled with the Jupyter environment for ease of explanation. However, you are suggested to use the text editor and interpreter.\n",
        "\n",
        "## Constants and Variables\n",
        "\n"
      ],
      "metadata": {
        "id": "Weez1-IgQdzw"
      }
    },
    {
      "cell_type": "markdown",
      "source": [
        "This program declares a variable *x* which is a name for the constant $5$. Variable is similar to the concept of an variable in algebra which you have seen in primary school. In the python interpreter, you can query for the value of the variable by writing the variable name. Go and run this code and see what it prints. Later, modify the value of x to $7$ and check whether it has been changed!"
      ],
      "metadata": {
        "id": "OCqbpU-tGOL1"
      }
    },
    {
      "cell_type": "code",
      "source": [
        "x = 5\n",
        "x"
      ],
      "metadata": {
        "id": "R6CqvAtH8mB3",
        "colab": {
          "base_uri": "https://localhost:8080/"
        },
        "outputId": "96d695eb-6e93-41de-a008-160206fba4eb"
      },
      "execution_count": null,
      "outputs": [
        {
          "output_type": "execute_result",
          "data": {
            "text/plain": [
              "5"
            ]
          },
          "metadata": {},
          "execution_count": 2
        }
      ]
    },
    {
      "cell_type": "markdown",
      "source": [
        "Strings are the values whichs are enclosed in the single quotes. A string value can contain sequence of alphabets, numbers, and all special characters. This is useful, for example, you want to assign a name or a telephone number."
      ],
      "metadata": {
        "id": "oLdtkJy489ii"
      }
    },
    {
      "cell_type": "code",
      "source": [
        "name = 'John'\n",
        "x"
      ],
      "metadata": {
        "colab": {
          "base_uri": "https://localhost:8080/"
        },
        "id": "HI-4ozFs8852",
        "outputId": "581db711-312d-456b-9261-585ca95ee38d"
      },
      "execution_count": null,
      "outputs": [
        {
          "output_type": "execute_result",
          "data": {
            "text/plain": [
              "5"
            ]
          },
          "metadata": {},
          "execution_count": 3
        }
      ]
    },
    {
      "cell_type": "markdown",
      "source": [
        "It is also possible to assigned decimal numbers to these variables. Decimal values are called as floating point number.\n",
        "\n"
      ],
      "metadata": {
        "id": "pWnf1HZvHqw6"
      }
    },
    {
      "cell_type": "code",
      "source": [
        "x = 5.0\n",
        "x"
      ],
      "metadata": {
        "colab": {
          "base_uri": "https://localhost:8080/"
        },
        "id": "U_7qe2CaHvmy",
        "outputId": "3acbff03-d7ea-46b4-9a2b-7a0c2769a52f"
      },
      "execution_count": null,
      "outputs": [
        {
          "output_type": "execute_result",
          "data": {
            "text/plain": [
              "5.0"
            ]
          },
          "metadata": {},
          "execution_count": 5
        }
      ]
    },
    {
      "cell_type": "markdown",
      "source": [
        "**Boolean Constant**\n",
        "\n",
        "Boolean constants are `True` or `False`."
      ],
      "metadata": {
        "id": "QUh5sLoPycYT"
      }
    },
    {
      "cell_type": "code",
      "source": [
        "x = True\n",
        "print(x)\n",
        "x = False\n",
        "print(x)"
      ],
      "metadata": {
        "colab": {
          "base_uri": "https://localhost:8080/"
        },
        "id": "7U3xku85ybh0",
        "outputId": "29e0af2d-c033-42fa-d4b5-50694cc0e17b"
      },
      "execution_count": null,
      "outputs": [
        {
          "output_type": "stream",
          "name": "stdout",
          "text": [
            "True\n",
            "False\n"
          ]
        }
      ]
    },
    {
      "cell_type": "markdown",
      "source": [
        "**Binary Numbers**\n",
        "\n",
        "Binary numbers are represented as `0b<number>` where `<number>` is a bit string. Similary, hexadecimal numbers are represented as `0x<number>`."
      ],
      "metadata": {
        "id": "uWuqXP-BzpCJ"
      }
    },
    {
      "cell_type": "code",
      "source": [
        "x = 0b111\n",
        "print(x)\n",
        "x = 0xFF\n",
        "print(x)"
      ],
      "metadata": {
        "colab": {
          "base_uri": "https://localhost:8080/"
        },
        "id": "uqz7uD3Xz61p",
        "outputId": "892ac76c-9c1b-4900-f419-7493e29473ec"
      },
      "execution_count": null,
      "outputs": [
        {
          "output_type": "stream",
          "name": "stdout",
          "text": [
            "7\n",
            "255\n"
          ]
        }
      ]
    },
    {
      "cell_type": "markdown",
      "source": [
        "## Relational Operations\n",
        "\n",
        "Python provides the following relational operators: `>, >=, <=, <, ==, !=`. The operators `==` and `!=` checks for equals-to and not equals to (as in 2 equals-to 2, and 3 not equals-to 2). The result of this operation returns a boolean value.\n",
        "\n",
        "These are used to compare the numbers, characters, and strings. Yes, you heard it right, characters and strings. Technically, these operators can be defined based on the data type.\n",
        "\n",
        "In the case of numbers, the behavior is similar to their mathematical counterpart. In the case of characters, it uses the implementation defined by the interpreter. For example `'a' < 'b'` yields `True` while `'b' < 'A'` yields `False`. This is because, python compares its corresponding ASCII value. The ASCII value of `b` is the 98 and that of `A` is 65."
      ],
      "metadata": {
        "id": "qFraQN05yzCB"
      }
    },
    {
      "cell_type": "code",
      "source": [
        "print (1 > 5)\n",
        "print (1 < 5)\n",
        "print (2 == 2)\n",
        "print (2 != 2)\n",
        "print ('a' < 'b')\n",
        "print ('b' < 'A')\n",
        "print ('aBc' < 'abc')"
      ],
      "metadata": {
        "colab": {
          "base_uri": "https://localhost:8080/"
        },
        "id": "JGOc6ICbzjSL",
        "outputId": "8a72872c-8183-4177-d444-efc8071ae699"
      },
      "execution_count": null,
      "outputs": [
        {
          "output_type": "stream",
          "name": "stdout",
          "text": [
            "False\n",
            "True\n",
            "True\n",
            "False\n",
            "True\n",
            "False\n",
            "True\n",
            "136109671661360\n"
          ]
        }
      ]
    },
    {
      "cell_type": "markdown",
      "source": [
        "## Logical Operators\n",
        "\n",
        "Python provides the following logical operators which work in boolean values. These are: `and`, `or`, and `not`. These operators work on the following table called as truth table. `a and b` returns `True` when **both** `a` and `b` is `True`. `a or b` returns `False` when **atleast one of** `a` and `b` is True. `not a` inverts the value of `a`, i.e., returns `True` when `a` is True and *vice-versa*."
      ],
      "metadata": {
        "id": "dzIQuZ7d1DBE"
      }
    },
    {
      "cell_type": "markdown",
      "source": [
        "## Arithmatic Operators\n",
        "\n",
        "These are normal arithmatic operators such as `+, -, \\*, /`, and many others. A peculiar operator is `**` which stands for the power, as in $a^b$. Other one is a `//` which is integer division, which computes the quotient of two numbers. The last one is a `%` (called as modulo) which compute the remainder after division."
      ],
      "metadata": {
        "id": "8x_exTE52jHx"
      }
    },
    {
      "cell_type": "code",
      "source": [
        "x = 5\n",
        "y = 7\n",
        "print (\"x + y = \", x+y)\n",
        "print (\"x*y = \", x*y)\n",
        "print (\"x/y = \", x/y)\n",
        "print (\"x//y = \", x//y)\n",
        "print (\"x - y = \", x-y)"
      ],
      "metadata": {
        "colab": {
          "base_uri": "https://localhost:8080/"
        },
        "id": "gjlMJl1f3epV",
        "outputId": "d06dfc08-ee99-4539-c953-a34a7bba4d22"
      },
      "execution_count": null,
      "outputs": [
        {
          "output_type": "stream",
          "name": "stdout",
          "text": [
            "x + y =  12\n",
            "x*y =  35\n",
            "x/y =  0.7142857142857143\n",
            "x//y =  0\n",
            "x - y =  -2\n"
          ]
        }
      ]
    },
    {
      "cell_type": "markdown",
      "source": [
        "## Input/Output\n",
        "\n",
        "\n",
        "To display something to the screen, python uses the `print` keyword. To take input from the keyboard, it uses the `input` keyword. Note, how you can concatenate the output."
      ],
      "metadata": {
        "id": "QoSALfnZuwIl"
      }
    },
    {
      "cell_type": "code",
      "source": [
        "name = input(\"Enter your name \")\n",
        "print(\"Hi\", name, \"nice to meet you!\")"
      ],
      "metadata": {
        "colab": {
          "base_uri": "https://localhost:8080/"
        },
        "id": "fTyvYX1VuveX",
        "outputId": "7243c203-ede7-4769-923f-df927c45616f"
      },
      "execution_count": null,
      "outputs": [
        {
          "output_type": "stream",
          "name": "stdout",
          "text": [
            "Enter your name Sam\n",
            "Hi Sam nice to meet you!\n"
          ]
        }
      ]
    },
    {
      "cell_type": "markdown",
      "source": [
        "## Data Types and Type Conversion\n",
        "\n",
        "Data type is the type of data associated with the variable or constant. Python provides the follow built-in data types.\n",
        "- int: Integers\n",
        "- str: String and characters\n",
        "- float: Decimal numbers\n",
        "- complex: complex numbers\n",
        "- bool: Boolean\n",
        "- set, frozenset: Sets (as in set of objects)\n",
        "- list, tuple, range: ordered collection of objects\n",
        "- dict: Dictionary\n",
        "- None: None type\n",
        "\n",
        "Until now, we have seen the int, str, float, and bool data types. Other data types we will see in the next chapters.\n",
        "\n",
        "`type` keywords gives the type data. Check for your self by running the code below."
      ],
      "metadata": {
        "id": "5JZFvq0yvamz"
      }
    },
    {
      "cell_type": "code",
      "source": [
        "x = 4\n",
        "print(type(x))\n",
        "print(type('this is my name'))\n",
        "print(type(4.0))\n",
        "\n",
        "print(type(\"this is a string\") == str)"
      ],
      "metadata": {
        "colab": {
          "base_uri": "https://localhost:8080/"
        },
        "id": "XY5FwJ-NwPo7",
        "outputId": "fe2d2271-c6a0-4e17-a5ea-d426205ac718"
      },
      "execution_count": null,
      "outputs": [
        {
          "output_type": "stream",
          "name": "stdout",
          "text": [
            "<class 'int'>\n",
            "<class 'str'>\n",
            "<class 'float'>\n",
            "True\n"
          ]
        }
      ]
    },
    {
      "cell_type": "markdown",
      "source": [
        "The `input` keyword always returns a string. However, it is possible to change the data type.  Check for yourself!"
      ],
      "metadata": {
        "id": "6KC8A9Wdw07q"
      }
    },
    {
      "cell_type": "code",
      "source": [
        "age = int(input(\"Enter your age \"))\n",
        "print(\"Your age is \", age)"
      ],
      "metadata": {
        "colab": {
          "base_uri": "https://localhost:8080/",
          "height": 208
        },
        "id": "cxXlJAFpw0XO",
        "outputId": "7e1386b4-bf29-420c-ebb5-f6739c36de10"
      },
      "execution_count": null,
      "outputs": [
        {
          "name": "stdout",
          "output_type": "stream",
          "text": [
            "Enter your age b\n"
          ]
        },
        {
          "output_type": "error",
          "ename": "ValueError",
          "evalue": "ignored",
          "traceback": [
            "\u001b[0;31m---------------------------------------------------------------------------\u001b[0m",
            "\u001b[0;31mValueError\u001b[0m                                Traceback (most recent call last)",
            "\u001b[0;32m<ipython-input-10-c63bf0dc6e9a>\u001b[0m in \u001b[0;36m<cell line: 1>\u001b[0;34m()\u001b[0m\n\u001b[0;32m----> 1\u001b[0;31m \u001b[0mage\u001b[0m \u001b[0;34m=\u001b[0m \u001b[0mint\u001b[0m\u001b[0;34m(\u001b[0m\u001b[0minput\u001b[0m\u001b[0;34m(\u001b[0m\u001b[0;34m\"Enter your age \"\u001b[0m\u001b[0;34m)\u001b[0m\u001b[0;34m)\u001b[0m\u001b[0;34m\u001b[0m\u001b[0;34m\u001b[0m\u001b[0m\n\u001b[0m\u001b[1;32m      2\u001b[0m \u001b[0mprint\u001b[0m\u001b[0;34m(\u001b[0m\u001b[0;34m\"Your age is \"\u001b[0m\u001b[0;34m,\u001b[0m \u001b[0mage\u001b[0m\u001b[0;34m)\u001b[0m\u001b[0;34m\u001b[0m\u001b[0;34m\u001b[0m\u001b[0m\n",
            "\u001b[0;31mValueError\u001b[0m: invalid literal for int() with base 10: 'b'"
          ]
        }
      ]
    },
    {
      "cell_type": "markdown",
      "source": [
        "Type conversion is also possible outside the `input` keyword.\n",
        "\n",
        "Type conversion may be *loseless*, i.e., it doesn't looses information, or *lossy*, i.e., it losses information. For example, converting a float to int will remove the integer part, while the other way will work. Similarly, any number can be casted into a string but not the other way round. In the case of string, it will throw an error."
      ],
      "metadata": {
        "id": "e07Pf5ipxtu3"
      }
    },
    {
      "cell_type": "code",
      "source": [
        "x = 5.3\n",
        "z = str(x)\n",
        "print(type(z))\n",
        "y = int(x)\n",
        "print(y)"
      ],
      "metadata": {
        "colab": {
          "base_uri": "https://localhost:8080/"
        },
        "id": "TRdgsHEEx1Q7",
        "outputId": "cd15955a-139b-4a40-e926-25268ef7329a"
      },
      "execution_count": null,
      "outputs": [
        {
          "output_type": "stream",
          "name": "stdout",
          "text": [
            "<class 'str'>\n",
            "5\n"
          ]
        }
      ]
    },
    {
      "cell_type": "markdown",
      "source": [],
      "metadata": {
        "id": "jxspd3LryZ1M"
      }
    },
    {
      "cell_type": "markdown",
      "source": [
        "## Branching\n",
        "\n",
        "Branching allows to the change the control flow of the program based on a condition. In python, a branching is introduced by `if: ... else: ....` statement. It is also possible to skip the `else ...` part if it is not required. In this example, it prints the message based on a condition."
      ],
      "metadata": {
        "id": "o8I1jifzzAfD"
      }
    },
    {
      "cell_type": "code",
      "source": [
        "x = int(input(\"Enter your age: \"))\n",
        "if x < 24:\n",
        "  print(\"You are young\")\n",
        "else:\n",
        "  print(\"You are not so young\")"
      ],
      "metadata": {
        "colab": {
          "base_uri": "https://localhost:8080/"
        },
        "id": "HsuVxuUYzcia",
        "outputId": "e6e2493e-3982-4a0a-c9c0-d5e9ffa2d5b7"
      },
      "execution_count": null,
      "outputs": [
        {
          "output_type": "stream",
          "name": "stdout",
          "text": [
            "Enter your age: 12\n",
            "You are young\n"
          ]
        }
      ]
    },
    {
      "cell_type": "markdown",
      "source": [
        "## Looping\n",
        "\n",
        "Looping repeats the set of instructions depending on the condition. In python the keyword `while` allow the loop. This program prints the sum of the series $\\sum\\limits_{i=1}^{10}i*i$. The lines `5-7` runs for $10$ times. At each iteration of the loop, the value of `i` is increment by 1."
      ],
      "metadata": {
        "id": "GgLRa60U0SBv"
      }
    },
    {
      "cell_type": "code",
      "source": [
        "sum = 0\n",
        "i = 1\n",
        "n = 10\n",
        "while i <= n:\n",
        "  print(\"i=\", i)\n",
        "  sum = sum + i*i\n",
        "  i = i + 1\n",
        "print(sum)"
      ],
      "metadata": {
        "id": "KPucBCFr0Qbw",
        "colab": {
          "base_uri": "https://localhost:8080/"
        },
        "outputId": "1294d273-de92-4ded-ad95-e2dfa1035be3"
      },
      "execution_count": null,
      "outputs": [
        {
          "output_type": "stream",
          "name": "stdout",
          "text": [
            "i= 1\n",
            "i= 2\n",
            "i= 3\n",
            "i= 4\n",
            "i= 5\n",
            "i= 6\n",
            "i= 7\n",
            "i= 8\n",
            "i= 9\n",
            "i= 10\n",
            "385\n"
          ]
        }
      ]
    },
    {
      "cell_type": "markdown",
      "source": [
        "Another technique to loop is with the `for` loop. The `for` loop iterates over a fixed range. The `range(1,11, 1)` generates sequence of numbers from 1 to 10 (excluding 11) in the increments of 1. The `range` function has following format: `range(start, end, increment)`. By default the increment is 1."
      ],
      "metadata": {
        "id": "xh49hGg-rhTA"
      }
    },
    {
      "cell_type": "code",
      "source": [
        "sum = 0\n",
        "for i in range(1, 11, 1):\n",
        "  sum = sum + i*i\n",
        "print(sum)"
      ],
      "metadata": {
        "colab": {
          "base_uri": "https://localhost:8080/"
        },
        "id": "NJ4RTwtNrx4E",
        "outputId": "044b6b02-52ad-4018-ccaa-efa032bb73c3"
      },
      "execution_count": null,
      "outputs": [
        {
          "output_type": "stream",
          "name": "stdout",
          "text": [
            "385\n"
          ]
        }
      ]
    },
    {
      "cell_type": "markdown",
      "source": [
        "Another way to implement the previous code. But, it is preferable to use the version above."
      ],
      "metadata": {
        "id": "ZNYqJoY1s0VC"
      }
    },
    {
      "cell_type": "code",
      "source": [
        "sum = 0\n",
        "for i in range(10, 0, -1):\n",
        "  sum = sum + (i*i)\n",
        "print(sum)"
      ],
      "metadata": {
        "colab": {
          "base_uri": "https://localhost:8080/"
        },
        "id": "8fwmp5EnsnND",
        "outputId": "48eace58-ec8e-40e9-c6e7-b9c572a39110"
      },
      "execution_count": null,
      "outputs": [
        {
          "output_type": "stream",
          "name": "stdout",
          "text": [
            "385\n"
          ]
        }
      ]
    },
    {
      "cell_type": "markdown",
      "source": [
        "## Integer square root\n",
        "\n",
        "In this part, we will implement a program to the print the integer square root of a number. For a given number $n$, it will compute $⌊\\sqrt{n}⌋$. For example, for $10$ it prints $3$.\n",
        "\n",
        "In the first version, the idea is simple. It iterates and increments the counter $i$ until the condition $(i+1)^2 \\leq n$ is satisfied. Print the values to learn how it works."
      ],
      "metadata": {
        "id": "ED36_iKStBdp"
      }
    },
    {
      "cell_type": "code",
      "source": [
        "n=100\n",
        "i=-1\n",
        "while (i+1)**2 <= n:\n",
        "  i=i+1\n",
        "print(i)"
      ],
      "metadata": {
        "colab": {
          "base_uri": "https://localhost:8080/"
        },
        "id": "Y8fgczad9pMt",
        "outputId": "39ff8144-1ef9-4cdf-b3cc-37d27d737bbe"
      },
      "execution_count": null,
      "outputs": [
        {
          "output_type": "stream",
          "name": "stdout",
          "text": [
            "10\n"
          ]
        }
      ]
    },
    {
      "cell_type": "markdown",
      "source": [
        "## Functions\n",
        "\n",
        "Function is a mechanism to group a bunch of statements for a specific purpose. It resembles to the function in mathematics. It takes a zero or more arguments and computes the value, except for one thing, that it may not always return a value. It is possible to group a collection of statements in a function\n",
        "\n",
        "For example, if you want to compute the the integer square root of the number for the range 0 to 100, then is a neat programming practice to put it into a function.\n",
        "\n",
        "A function has the following format:\n",
        "\n",
        "```python\n",
        "def function_name(inputs_arguments):\n",
        "  # body of the function\n",
        "  return value\n",
        "```\n",
        "\n",
        "A function is created by using the `def` keyword. You must have noted that python is indentation specific, i.e., the body of the function should be indented one space more relative to the definition."
      ],
      "metadata": {
        "id": "EeMyol8j4Vx7"
      }
    },
    {
      "cell_type": "code",
      "source": [
        "def square_root(n):\n",
        "  i=-1\n",
        "  while (i+1)**2 <= n:\n",
        "    i=i+1\n",
        "  return i\n",
        "\n",
        "# now we have declared the function, we can use it\n",
        "print(square_root(100))\n",
        "# or better, print a collection of sqaure roots\n",
        "for i in range(0, 5):\n",
        "  print(square_root(i))"
      ],
      "metadata": {
        "colab": {
          "base_uri": "https://localhost:8080/"
        },
        "id": "qeUFinZd4VCi",
        "outputId": "24a9d6e6-8813-402a-a708-fc318a20de91"
      },
      "execution_count": null,
      "outputs": [
        {
          "output_type": "stream",
          "name": "stdout",
          "text": [
            "10\n",
            "0\n",
            "1\n",
            "1\n",
            "1\n",
            "2\n"
          ]
        },
        {
          "output_type": "execute_result",
          "data": {
            "text/plain": [
              "[0, 1, 1, 1, 2]"
            ]
          },
          "metadata": {},
          "execution_count": 45
        }
      ]
    },
    {
      "cell_type": "markdown",
      "source": [
        "Other example of a function that doesn't return a value. This function prints the fibonacci series. It is a series which starts from $0, 1$ and subsequent number is the sum of the previous two numbers.\n",
        "\n",
        "$0, 1, 1, 2, 3, 5, 8, \\ldots$"
      ],
      "metadata": {
        "id": "RLGOZfbn6iVU"
      }
    },
    {
      "cell_type": "code",
      "source": [
        "def fib(n):\n",
        "  if n <= 1:\n",
        "    print(0)\n",
        "  elif n == 2:\n",
        "    print(1)\n",
        "  else:\n",
        "    a = 0\n",
        "    b = 1\n",
        "    c = a+b\n",
        "    for i in range(3, n+1):\n",
        "      c = a+b\n",
        "      a = b\n",
        "      b = c\n",
        "    print(c)\n",
        "\n",
        "\n",
        "fib(5)\n",
        "fib(6)"
      ],
      "metadata": {
        "colab": {
          "base_uri": "https://localhost:8080/"
        },
        "id": "nTk0GU7z6h_W",
        "outputId": "4a310937-5bc7-4836-f7a7-23de1ded3a78"
      },
      "execution_count": null,
      "outputs": [
        {
          "output_type": "stream",
          "name": "stdout",
          "text": [
            "3\n",
            "5\n"
          ]
        }
      ]
    },
    {
      "cell_type": "markdown",
      "source": [
        "Although a better way to implement this is"
      ],
      "metadata": {
        "id": "-0560FJJ7rdY"
      }
    },
    {
      "cell_type": "code",
      "source": [
        "def fib(n):\n",
        "  if n <= 1:\n",
        "    return 0\n",
        "  if n == 2:\n",
        "    return 1;\n",
        "  a = 0\n",
        "  b = 1\n",
        "  c = 0\n",
        "  for i in range(3, n+1):\n",
        "    c = a+b\n",
        "    a = b\n",
        "    b = c\n",
        "  return c\n",
        "\n",
        "print(fib(5))\n",
        "print(fib(6))"
      ],
      "metadata": {
        "colab": {
          "base_uri": "https://localhost:8080/"
        },
        "id": "cn96v4N57qkn",
        "outputId": "9110d9e0-b869-4e5d-e77a-cda9a551d037"
      },
      "execution_count": null,
      "outputs": [
        {
          "output_type": "stream",
          "name": "stdout",
          "text": [
            "3\n",
            "5\n"
          ]
        }
      ]
    },
    {
      "cell_type": "markdown",
      "source": [
        "## Questions\n",
        "\n",
        "Write the following programs:\n",
        "\n",
        "1. Compute one of positive root (assume 0 to be a positive number) of a polynomial of degree 3. If the root does not exist between $(0, 10k)$, then it should return -1. Assume that the margin of error is given as input. By default, the error tolerance is $0.0001$\n",
        "\n",
        "2. A popular yet simple to express conjecture in mathematics is collatz conjecture. Start with a number $n \\geq 1$, and form a sequence of the numbers by applying the function at each step on the result from the previous step until it reaches 1. The conjecture is that the sequence will always end in 1 for any starting integer $n$. Verify collatz conjecture for $n$ from  0 to 1000. For example, starting with $5$, the sequence formed is $[16, 8, 4, 2, 1]$. $f(n) = \\begin{cases}\n",
        "  n/2 & \\mathit{n~is~even}\\\\\n",
        "  3n+1 & \\mathit{n~is~odd}\n",
        " \\end{cases}\n",
        "$.\n",
        "\n",
        "3. Extend the square root method to compute the precise square root. The margin of error between the computed and actual should be minimum.  \n",
        "\n",
        "5. Given three coordinates $(x_1, y_1)$,  $(x_2, y_2)$, and $(x_2, y_2)$. Check if these are colinear.  \n",
        "\n",
        "6. Game of Dice: Two players takes turn to roll a dice. Each players get the points equal to the value of the dice roll. If the dice roll turns out to be a even number the points are given to the opponent player. Otherwise, the player get the points equals to twice the dice roll. The player who reaches 100 points wins the game. Assume that you are given a function `dice_roll()` which returns the value of the current dice rolled."
      ],
      "metadata": {
        "id": "akh9Exu88Gz2"
      }
    },
    {
      "cell_type": "code",
      "source": [
        "def compute_value(c0, c1, c2, c3, i):\n",
        "  return c0*(i**3) + c1*(i**2) + c2*i + c3\n",
        "\n",
        "def polynomial_root(c0, c1, c2, c3, error=0.0001, step=0.01):\n",
        "  i=0\n",
        "  while i < 10_000:\n",
        "    val = compute_value(c0, c1, c2, c3, i)\n",
        "    # print(\"i=\", i, \" value = \", val )\n",
        "    if abs(val - 0.0) < error:\n",
        "      return i\n",
        "    i=i+step\n",
        "  return -1\n",
        "\n",
        "print(polynomial_root(1.0, 0.0, 0.0, -1.0))"
      ],
      "metadata": {
        "colab": {
          "base_uri": "https://localhost:8080/"
        },
        "id": "zo4UNx7V-0FW",
        "outputId": "4439e559-58af-4820-a300-85ab7f2fe88d"
      },
      "execution_count": null,
      "outputs": [
        {
          "output_type": "stream",
          "name": "stdout",
          "text": [
            "1.0000000000000007\n"
          ]
        }
      ]
    },
    {
      "cell_type": "code",
      "source": [
        "def collatz(n, max_steps=100_000_00):\n",
        "  step = 0;\n",
        "  while n > 1 and step < max_steps:\n",
        "    if n%2 == 0:\n",
        "      n = n//2\n",
        "    else:\n",
        "      n = 3*n+1\n",
        "    step = step+1\n",
        "  return True if n==1 else False\n",
        "\n",
        "def verify_collatz(max):\n",
        "  for i in range(1, max+1):\n",
        "    if not collatz(i):\n",
        "      print(\"failed to verify colltaz in 100_000_00 steps for \", i)\n",
        "      return\n",
        "  print(\"verified collatz until\", max)\n",
        "\n",
        "\n",
        "verify_collatz(10_000)"
      ],
      "metadata": {
        "colab": {
          "base_uri": "https://localhost:8080/"
        },
        "id": "xbYNXgBo9hB9",
        "outputId": "bb33772f-095f-4049-e567-eea5055549aa"
      },
      "execution_count": null,
      "outputs": [
        {
          "output_type": "stream",
          "name": "stdout",
          "text": [
            "verified collatz until 10000\n"
          ]
        }
      ]
    },
    {
      "cell_type": "code",
      "source": [
        "def dice_roll():\n",
        "  import random as rand\n",
        "  return rand.randint(1,6)\n",
        "\n",
        "def player1():\n",
        "  roll = dice_roll()\n",
        "  print(\"\\tplayer 1 rolled \", roll)\n",
        "  return roll\n",
        "\n",
        "def player2():\n",
        "  roll = dice_roll()\n",
        "  print(\"\\tplayer 2 rolled \", roll)\n",
        "  return roll\n",
        "\n",
        "def check(p1, p2):\n",
        "  return p1 < 100 and p2 < 100\n",
        "\n",
        "def score_board(p1, p2):\n",
        "  print(\"Score Board: player 1 = \", p1, \" player 2 = \", p2)\n",
        "\n",
        "def game():\n",
        "  p1 = 0\n",
        "  p2 = 0\n",
        "  while True:\n",
        "    roll = player1()\n",
        "    if roll%2 == 0:\n",
        "      p2 = p2 + roll\n",
        "    else:\n",
        "      p1 = p1 + 2*roll\n",
        "    score_board(p1, p2)\n",
        "    if not check(p1, p2):\n",
        "      break\n",
        "\n",
        "    roll = player2()\n",
        "    if roll%2 == 0:\n",
        "      p1 = p1 + roll\n",
        "    else:\n",
        "      p2 = p2 + 2*roll\n",
        "    score_board(p1, p2)\n",
        "    if not check(p1, p2):\n",
        "      break\n",
        "  print(\"player 1 wins\") if p1 > 100 else print(\"player 2 wins\")\n",
        "\n",
        "game()\n"
      ],
      "metadata": {
        "colab": {
          "base_uri": "https://localhost:8080/"
        },
        "id": "Q9ihjdDsIz9A",
        "outputId": "21db7b64-154d-4158-a141-31e7b12dc9ac"
      },
      "execution_count": null,
      "outputs": [
        {
          "output_type": "stream",
          "name": "stdout",
          "text": [
            "\tplayer 1 rolled  2\n",
            "Score Board: player 1 =  0  player 2 =  2\n",
            "\tplayer 2 rolled  2\n",
            "Score Board: player 1 =  2  player 2 =  2\n",
            "\tplayer 1 rolled  2\n",
            "Score Board: player 1 =  2  player 2 =  4\n",
            "\tplayer 2 rolled  3\n",
            "Score Board: player 1 =  2  player 2 =  10\n",
            "\tplayer 1 rolled  2\n",
            "Score Board: player 1 =  2  player 2 =  12\n",
            "\tplayer 2 rolled  3\n",
            "Score Board: player 1 =  2  player 2 =  18\n",
            "\tplayer 1 rolled  4\n",
            "Score Board: player 1 =  2  player 2 =  22\n",
            "\tplayer 2 rolled  1\n",
            "Score Board: player 1 =  2  player 2 =  24\n",
            "\tplayer 1 rolled  6\n",
            "Score Board: player 1 =  2  player 2 =  30\n",
            "\tplayer 2 rolled  2\n",
            "Score Board: player 1 =  4  player 2 =  30\n",
            "\tplayer 1 rolled  3\n",
            "Score Board: player 1 =  10  player 2 =  30\n",
            "\tplayer 2 rolled  5\n",
            "Score Board: player 1 =  10  player 2 =  40\n",
            "\tplayer 1 rolled  3\n",
            "Score Board: player 1 =  16  player 2 =  40\n",
            "\tplayer 2 rolled  4\n",
            "Score Board: player 1 =  20  player 2 =  40\n",
            "\tplayer 1 rolled  6\n",
            "Score Board: player 1 =  20  player 2 =  46\n",
            "\tplayer 2 rolled  3\n",
            "Score Board: player 1 =  20  player 2 =  52\n",
            "\tplayer 1 rolled  1\n",
            "Score Board: player 1 =  22  player 2 =  52\n",
            "\tplayer 2 rolled  3\n",
            "Score Board: player 1 =  22  player 2 =  58\n",
            "\tplayer 1 rolled  1\n",
            "Score Board: player 1 =  24  player 2 =  58\n",
            "\tplayer 2 rolled  2\n",
            "Score Board: player 1 =  26  player 2 =  58\n",
            "\tplayer 1 rolled  4\n",
            "Score Board: player 1 =  26  player 2 =  62\n",
            "\tplayer 2 rolled  3\n",
            "Score Board: player 1 =  26  player 2 =  68\n",
            "\tplayer 1 rolled  6\n",
            "Score Board: player 1 =  26  player 2 =  74\n",
            "\tplayer 2 rolled  2\n",
            "Score Board: player 1 =  28  player 2 =  74\n",
            "\tplayer 1 rolled  2\n",
            "Score Board: player 1 =  28  player 2 =  76\n",
            "\tplayer 2 rolled  4\n",
            "Score Board: player 1 =  32  player 2 =  76\n",
            "\tplayer 1 rolled  2\n",
            "Score Board: player 1 =  32  player 2 =  78\n",
            "\tplayer 2 rolled  6\n",
            "Score Board: player 1 =  38  player 2 =  78\n",
            "\tplayer 1 rolled  4\n",
            "Score Board: player 1 =  38  player 2 =  82\n",
            "\tplayer 2 rolled  3\n",
            "Score Board: player 1 =  38  player 2 =  88\n",
            "\tplayer 1 rolled  6\n",
            "Score Board: player 1 =  38  player 2 =  94\n",
            "\tplayer 2 rolled  5\n",
            "Score Board: player 1 =  38  player 2 =  104\n",
            "player 2 wins\n"
          ]
        }
      ]
    }
  ]
}